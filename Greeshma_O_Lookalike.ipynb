{
  "nbformat": 4,
  "nbformat_minor": 0,
  "metadata": {
    "colab": {
      "provenance": []
    },
    "kernelspec": {
      "name": "python3",
      "display_name": "Python 3"
    },
    "language_info": {
      "name": "python"
    }
  },
  "cells": [
    {
      "cell_type": "code",
      "source": [
        "import pandas as pd\n",
        "from sklearn.feature_extraction.text import TfidfTransformer\n",
        "from sklearn.metrics.pairwise import cosine_similarity\n"
      ],
      "metadata": {
        "id": "eLLBBU4bwgoS"
      },
      "execution_count": 30,
      "outputs": []
    },
    {
      "cell_type": "code",
      "source": [
        "customers_df = pd.read_csv('Customers.csv')\n",
        "products_df = pd.read_csv('Products.csv')\n",
        "transactions_df = pd.read_csv('Transactions.csv')\n"
      ],
      "metadata": {
        "id": "iUachuK3wmqC"
      },
      "execution_count": 31,
      "outputs": []
    },
    {
      "cell_type": "code",
      "source": [
        "transactions_merged = transactions_df.merge(products_df, on='ProductID').merge(customers_df, on='CustomerID')\n"
      ],
      "metadata": {
        "id": "3F7vMeCMwrd-"
      },
      "execution_count": 32,
      "outputs": []
    },
    {
      "cell_type": "code",
      "source": [
        "customer_product_summary = transactions_merged.pivot_table(index='CustomerID',\n",
        "                                                           columns='ProductID',\n",
        "                                                           values='Quantity',\n",
        "                                                           aggfunc='sum',\n",
        "                                                           fill_value=0)\n"
      ],
      "metadata": {
        "id": "EposHquBw1bx"
      },
      "execution_count": 33,
      "outputs": []
    },
    {
      "cell_type": "code",
      "source": [
        "tfidf_transformer = TfidfTransformer()\n",
        "tfidf_matrix = tfidf_transformer.fit_transform(customer_product_summary)\n"
      ],
      "metadata": {
        "id": "5nX5pyrPw4zj"
      },
      "execution_count": 34,
      "outputs": []
    },
    {
      "cell_type": "code",
      "source": [
        "cos_sim_matrix = cosine_similarity(tfidf_matrix)\n"
      ],
      "metadata": {
        "id": "o_Pa3eajw796"
      },
      "execution_count": 35,
      "outputs": []
    },
    {
      "cell_type": "code",
      "source": [
        "def get_similar_customers(customer_id, sim_matrix, customer_ids, top_n=3):\n",
        "    customer_idx = customer_ids.index(customer_id)\n",
        "    sim_scores = list(enumerate(sim_matrix[customer_idx]))\n",
        "    sim_scores = sorted(sim_scores, key=lambda x: x[1], reverse=True)\n",
        "    sim_scores = sim_scores[1:top_n+1]  # Exclude the customer's own score\n",
        "    similar_customers = [(customer_ids[i], score) for i, score in sim_scores]\n",
        "    return similar_customers\n",
        "\n"
      ],
      "metadata": {
        "id": "StI1GfeUw-fr"
      },
      "execution_count": 36,
      "outputs": []
    },
    {
      "cell_type": "code",
      "source": [
        "customer_ids = list(customers_df['CustomerID'])\n",
        "lookalike_dict = {}\n",
        "\n",
        "for customer_id in customer_ids[:20]:\n",
        "    similar_customers = get_similar_customers(customer_id, cos_sim_matrix, customer_ids)\n",
        "    lookalike_dict[customer_id] = similar_customers\n"
      ],
      "metadata": {
        "id": "jyfKMBRWxE4h"
      },
      "execution_count": 37,
      "outputs": []
    },
    {
      "cell_type": "code",
      "source": [
        "lookalike_df = pd.DataFrame(list(lookalike_dict.items()), columns=['CustomerID', 'Lookalikes'])\n",
        "lookalike_df['Lookalikes'] = lookalike_df['Lookalikes'].apply(lambda x: [{\"CustomerID\": cust_id, \"Score\": \"%.2f\" % score} for cust_id, score in x])\n",
        "lookalike_df.to_csv('Lookalike.csv', index=False)\n"
      ],
      "metadata": {
        "id": "5-1X3Az0xID_"
      },
      "execution_count": 39,
      "outputs": []
    }
  ]
}